{
 "cells": [
  {
   "cell_type": "code",
   "execution_count": 1,
   "id": "2ef0ced8",
   "metadata": {},
   "outputs": [],
   "source": [
    "import speech_recognition as sr\n",
    "import pyttsx3\n",
    "import datetime\n",
    "import wikipedia\n",
    "import webbrowser\n",
    "import os\n",
    "import pyjokes"
   ]
  },
  {
   "cell_type": "code",
   "execution_count": 2,
   "id": "11119f71",
   "metadata": {},
   "outputs": [
    {
     "name": "stdout",
     "output_type": "stream",
     "text": [
      "Requirement already satisfied: pyjokes in c:\\users\\sinha\\anaconda3\\envs\\env1\\lib\\site-packages (0.8.3)\n"
     ]
    }
   ],
   "source": [
    "!pip install pyjokes"
   ]
  },
  {
   "cell_type": "code",
   "execution_count": 3,
   "id": "b6ae0649",
   "metadata": {},
   "outputs": [],
   "source": [
    "def speak(text):\n",
    "    print(f\"Assistant: {text}\")\n",
    "    try:\n",
    "        engine = pyttsx3.init()\n",
    "        engine.say(text)\n",
    "        engine.runAndWait()\n",
    "    except:\n",
    "        print(\"Speech output not supported in Colab.\")"
   ]
  },
  {
   "cell_type": "code",
   "execution_count": 4,
   "id": "3a7391c9",
   "metadata": {},
   "outputs": [],
   "source": [
    "def wish_user():\n",
    "    hour = int(datetime.datetime.now().hour)\n",
    "    if hour < 12:\n",
    "        speak(\"Good Morning!\")\n",
    "    elif hour < 18:\n",
    "        speak(\"Good Afternoon!\")\n",
    "    else:\n",
    "        speak(\"Good Evening!\")\n",
    "    speak(\"I am your voice assistant. How can I help you today?\")"
   ]
  },
  {
   "cell_type": "code",
   "execution_count": 5,
   "id": "8148332c",
   "metadata": {},
   "outputs": [],
   "source": [
    "def take_command():\n",
    "    return input(\"You (type your command): \").lower()"
   ]
  },
  {
   "cell_type": "code",
   "execution_count": 6,
   "id": "a4ae2324",
   "metadata": {},
   "outputs": [],
   "source": [
    "def run_assistant():\n",
    "    wish_user()\n",
    "    while True:\n",
    "        query = take_command()\n",
    "\n",
    "        if 'wikipedia' in query:\n",
    "            speak(\"Searching Wikipedia...\")\n",
    "            query = query.replace(\"wikipedia\", \"\")\n",
    "            try:\n",
    "                result = wikipedia.summary(query, sentences=2)\n",
    "                speak(\"According to Wikipedia:\")\n",
    "                speak(result)\n",
    "            except:\n",
    "                speak(\"Sorry, I couldn't find anything.\")\n",
    "\n",
    "        elif 'open youtube' in query:\n",
    "            speak(\"Opening YouTube...\")\n",
    "            webbrowser.open(\"https://www.youtube.com/\")\n",
    "\n",
    "        elif 'open google' in query:\n",
    "            speak(\"Opening Google...\")\n",
    "            webbrowser.open(\"https://www.google.com/\")\n",
    "\n",
    "        elif 'time' in query:\n",
    "            strTime = datetime.datetime.now().strftime(\"%H:%M:%S\")\n",
    "            speak(f\"The current time is {strTime}\")\n",
    "\n",
    "        elif 'joke' in query:\n",
    "            joke = pyjokes.get_joke()\n",
    "            speak(joke)\n",
    "\n",
    "        elif 'exit' in query or 'bye' in query:\n",
    "            speak(\"Goodbye! Have a nice day!\")\n",
    "            break\n",
    "\n",
    "        else:\n",
    "            speak(\"Sorry, I didn't understand that. Try again.\")"
   ]
  },
  {
   "cell_type": "code",
   "execution_count": 7,
   "id": "8abb1a5c",
   "metadata": {},
   "outputs": [
    {
     "name": "stdout",
     "output_type": "stream",
     "text": [
      "Assistant: Good Afternoon!\n",
      "Assistant: I am your voice assistant. How can I help you today?\n",
      "Assistant: Sorry, I didn't understand that. Try again.\n",
      "Assistant: Sorry, I didn't understand that. Try again.\n",
      "Assistant: Goodbye! Have a nice day!\n"
     ]
    }
   ],
   "source": [
    "run_assistant()"
   ]
  },
  {
   "cell_type": "code",
   "execution_count": 8,
   "id": "92e5716c",
   "metadata": {},
   "outputs": [],
   "source": [
    "# py -3.11 -m venv PYTHON---3.11"
   ]
  }
 ],
 "metadata": {
  "kernelspec": {
   "display_name": "ENV1",
   "language": "python",
   "name": "python3"
  },
  "language_info": {
   "codemirror_mode": {
    "name": "ipython",
    "version": 3
   },
   "file_extension": ".py",
   "mimetype": "text/x-python",
   "name": "python",
   "nbconvert_exporter": "python",
   "pygments_lexer": "ipython3",
   "version": "3.11.13"
  }
 },
 "nbformat": 4,
 "nbformat_minor": 5
}
